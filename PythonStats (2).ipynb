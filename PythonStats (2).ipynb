{
 "cells": [
  {
   "cell_type": "markdown",
   "id": "a634534c",
   "metadata": {},
   "source": [
    "Это проект по подсчёту статистики по оценкам на моём курсе по питону в вышке.\n",
    "Кто-то написал в чатике, что питон сложнее экономики и я решил это опровергнуть. И таки опроверг!\n",
    "На вход программа принимает табличку с ФИО, группой и итоговой оценкой, а на выход выдаёт сколько учеников получили определённую оценку от 0 до 10, а ещё средний балл по группам."
   ]
  },
  {
   "cell_type": "code",
   "execution_count": 3,
   "id": "bf88d5e8",
   "metadata": {},
   "outputs": [],
   "source": [
    "from collections import Counter\n",
    "import csv\n",
    "with open('input.txt',encoding='UTF-8') as f:\n",
    "    full = f.readlines()\n",
    "full=[item.split(sep='\\t') for item in full]\n",
    "\n",
    "grades=[jtem[-2] for jtem in full]\n",
    "cnt_grades=Counter(grades)\n",
    "list_grades=[(int(item), cnt_grades[item]) for item in cnt_grades]\n",
    "list_grades.sort()\n",
    "\n",
    "with open('output.tsv','w',encoding='utf-8') as f:\n",
    "    for ktem in list_grades:\n",
    "        f.write(str(ktem[0])+'\\t'+str(ktem[1])+'\\n')\n",
    "    f.write('\\n')\n",
    "group={}\n",
    "for item in full:\n",
    "    group.setdefault(item[3], [])\n",
    "    group[item[3]].append(int(item[-2]))\n",
    "\n",
    "group_avg=[(item, sum(group[item])/len(group[item])) for item in group]\n",
    "\n",
    "with open('output.tsv','a',encoding='utf-8') as f:\n",
    "    for ktem in group_avg:\n",
    "        f.write(str(ktem[0])+'\\t'+str(ktem[1])+'\\n')"
   ]
  },
  {
   "cell_type": "code",
   "execution_count": null,
   "id": "f8404866",
   "metadata": {},
   "outputs": [],
   "source": []
  }
 ],
 "metadata": {
  "kernelspec": {
   "display_name": "Python 3",
   "language": "python",
   "name": "python3"
  },
  "language_info": {
   "codemirror_mode": {
    "name": "ipython",
    "version": 3
   },
   "file_extension": ".py",
   "mimetype": "text/x-python",
   "name": "python",
   "nbconvert_exporter": "python",
   "pygments_lexer": "ipython3",
   "version": "3.8.8"
  }
 },
 "nbformat": 4,
 "nbformat_minor": 5
}
