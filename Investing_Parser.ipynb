{
 "cells": [
  {
   "cell_type": "markdown",
   "id": "634daebd",
   "metadata": {},
   "source": [
    "Это мой мини-проект по парсингу сайтов. Он находит дневной диапазон цен всех топовых компаний России и выводит их на экран"
   ]
  },
  {
   "cell_type": "code",
   "execution_count": null,
   "id": "2130bd6a",
   "metadata": {},
   "outputs": [],
   "source": []
  },
  {
   "cell_type": "code",
   "execution_count": 52,
   "id": "9bc0e89b",
   "metadata": {},
   "outputs": [
    {
     "name": "stdout",
     "output_type": "stream",
     "text": [
      "Wed Jul 13 14:10:23 2022\n"
     ]
    },
    {
     "data": {
      "application/vnd.jupyter.widget-view+json": {
       "model_id": "db4bf123578746eda14c528aa6540a9a",
       "version_major": 2,
       "version_minor": 0
      },
      "text/plain": [
       "  0%|          | 0/45 [00:00<?, ?it/s]"
      ]
     },
     "metadata": {},
     "output_type": "display_data"
    },
    {
     "name": "stdout",
     "output_type": "stream",
     "text": [
      "ОАО АФК Система (AFKS) : 13,46 - 14,47\n",
      "ОАО Аэрофлот (AFLT) : 26,92 - 27,54\n",
      "ФСК ЕЭС ОАО (FEES) : 0,086 - 0,0885\n",
      "ГМК Норильский Никель ПАО (GMKN) : 15.200 - 16.020\n",
      "Газпром ПАО (GAZP) : 185,6 - 194\n",
      "Группа ЛСР (LSRG) : 505,2 - 554,8\n",
      "НК Лукойл ПАО (LKOH) : 3.619 - 3.767\n",
      "Магнитогорский металлургический комбинат ПАО (MAGN) : 28,24 - 29,97\n",
      "Мобильные ТелеСистемы ПАО (MTSS) : 231 - 238,95\n",
      "ОАО Магнит (MGNT) : 4.250 - 4.328\n",
      "Новолипецкий металлургический комбинат НЛМК (NLMK) : 128,82 - 133,02\n",
      "ОАО НОВАТЭК (NVTK) : 905,2 - 949\n",
      "Полюс Золото ПАО (PLZL) : 7.904 - 8.385\n",
      "Роснефть (ROSN) : 318 - 335,45\n",
      "Сбербанк ПАО (SBER) : 126,32 - 129,95\n",
      "Сбербанк (прив.) (SBER_p) : 119,98 - 123,5\n",
      "ОАО Северсталь (CHMF) : 748 - 785\n",
      "Сургутнефтегаз ПАО (SNGS) : 24,175 - 25,01\n",
      "Сургутнефтегаз (прив.) (SNGS_p) : 34,56 - 35,435\n",
      "ОАО Татнефть (TATN) : 370,3 - 392,4\n",
      "Транснефть (прив.) (TRNF_p) : 121.700 - 125.750\n",
      "ВТБ RTS ПАО (VTBR) : 0,01782 - 0,01843\n",
      "Татнефть (прив.) (TATN_p) : 340 - 352,4\n",
      "Интер РАО ЕЭС ОАО (IRAO) : 3,205 - 3,2745\n",
      "FGK Rusgidro PAO (HYDR) : 0,7922 - 0,801\n",
      "ОАО Группа Компаний ПИК (PIKK) : 717,5 - 746\n",
      "Юнипро ПАО (UPRO) : 1,415 - 1,442\n",
      "Rossiyskiye Seti PAO (RSTI) : 0,593 - 0,606\n",
      "ОАО ФосАгро (PHOR) : 6.931 - 7.388\n",
      "Ростелеком ПАО (RTKM) : 63,13 - 65,75\n",
      "ОАО АК АЛРОСА (ALRS) : 64 - 65,19\n",
      "Московская биржа ОАО ММВБ (MOEX) : 81,7 - 84,59\n",
      "Polymetal International PLC (POLY) : 312 - 344,8\n",
      "Яндекс Н.В. (YNDX) : 1.615 - 1.688,8\n",
      "OK Rusal MKPAO (RUAL) : 51,15 - 53\n",
      "Московский кредитный банк (CBOM) : 4,63 - 4,742\n",
      "QIWI plc (QIWIDR) : 290 - 305\n",
      "Детский мир ПАО (DSKY) : 72,8 - 74,96\n",
      "X5 Retail Group (FIVEDR) : 1.100 - 1.143,5\n",
      "TCS Group Holding PLC (TCSGDR) : 1.880 - 1.987\n",
      "Petropavlovsk PLC (POGR) : 0,7 - 3,77\n",
      "VK Company Ltd DRC (VKCODR) : 306 - 323,8\n",
      "HeadHunter Group PLC ADR (HHRUDR) : 833 - 871\n",
      "Globaltrans Investment PLC (GLTRDR) : 280,75 - 291\n",
      "Ozon Holdings PLC (OZONDR) : 1.023,5 - 1.098,5\n"
     ]
    }
   ],
   "source": [
    "import requests\n",
    "from bs4 import BeautifulSoup\n",
    "from tqdm.notebook import tqdm \n",
    "import time\n",
    "appends_list=[]\n",
    "url='https://ru.investing.com/equities/'\n",
    "res=requests.get(url)\n",
    "\n",
    "tree=BeautifulSoup(res.content, 'html.parser')\n",
    "a=tree.find('body', {'class':'takeover dfpTakeovers'})\n",
    "b=a.find('div', {'class':'wrapper'})\n",
    "c=b.find('section', {'id':'leftColumn'})\n",
    "d=c.find('div', {'id':'marketInnerContent'})\n",
    "e=d.table\n",
    "a=e.find_all('tr')\n",
    "for item in a:\n",
    "    b=item.find('td', {'class':'bold'})\n",
    "    if b is not None:\n",
    "        c=b.a\n",
    "        appends_list.append(c.get('href'))\n",
    "print(time.asctime(time.localtime(time.time())))\n",
    "for item in tqdm(appends_list):\n",
    "    new_url='https://ru.investing.com'+item\n",
    "    res=requests.get(new_url)\n",
    "    tree=BeautifulSoup(res.content, 'html.parser')\n",
    "    data=tree.find_all('span', {'class':'key-info_dd-numeric__2cYjc'})\n",
    "    company_name=tree.find('h1').text\n",
    "    time.sleep(0.1)\n",
    "    print(company_name+' : '+str(data[1].span).strip('</span>')+' - '+str(data[2].span).strip('</span>'))"
   ]
  }
 ],
 "metadata": {
  "kernelspec": {
   "display_name": "Python 3",
   "language": "python",
   "name": "python3"
  },
  "language_info": {
   "codemirror_mode": {
    "name": "ipython",
    "version": 3
   },
   "file_extension": ".py",
   "mimetype": "text/x-python",
   "name": "python",
   "nbconvert_exporter": "python",
   "pygments_lexer": "ipython3",
   "version": "3.8.8"
  }
 },
 "nbformat": 4,
 "nbformat_minor": 5
}
